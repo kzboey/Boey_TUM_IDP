{
 "cells": [
  {
   "cell_type": "code",
   "execution_count": 1,
   "id": "30ea97a7-f06f-4947-9198-a6c7c0eb8ca6",
   "metadata": {},
   "outputs": [],
   "source": [
    "import os\n",
    "import torch\n",
    "import scipy.io\n",
    "import matplotlib.pyplot as plt\n",
    "import cvxpy as cp\n",
    "import seaborn as sns\n",
    "from scipy.signal import medfilt, savgol_filter, wiener\n",
    "from tqdm import tqdm\n",
    "import numpy as np\n",
    "\n",
    "os.chdir('..')\n",
    "import data_processing.preprocessing as preprocessing\n",
    "from config import left_cut, right_cut\n",
    "from utils import beerlamb_multi\n",
    "\n",
    "sns.set()"
   ]
  },
  {
   "cell_type": "code",
   "execution_count": null,
   "id": "ac80cb71-a11f-4192-aef0-c4bf5d61f285",
   "metadata": {},
   "outputs": [],
   "source": []
  }
 ],
 "metadata": {
  "kernelspec": {
   "display_name": "Python 3 (ipykernel)",
   "language": "python",
   "name": "python3"
  },
  "language_info": {
   "codemirror_mode": {
    "name": "ipython",
    "version": 3
   },
   "file_extension": ".py",
   "mimetype": "text/x-python",
   "name": "python",
   "nbconvert_exporter": "python",
   "pygments_lexer": "ipython3",
   "version": "3.10.6"
  }
 },
 "nbformat": 4,
 "nbformat_minor": 5
}
