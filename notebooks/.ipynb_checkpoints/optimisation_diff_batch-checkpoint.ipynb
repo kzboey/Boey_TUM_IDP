{
 "cells": [
  {
   "cell_type": "code",
   "execution_count": 1,
   "metadata": {
    "collapsed": false,
    "jupyter": {
     "outputs_hidden": false
    },
    "pycharm": {
     "name": "#%%\n"
    }
   },
   "outputs": [],
   "source": [
    "import os\n",
    "import torch\n",
    "import scipy.io\n",
    "import matplotlib.pyplot as plt\n",
    "import cvxpy as cp\n",
    "import seaborn as sns\n",
    "import numpy as np\n",
    "import time\n",
    "\n",
    "os.chdir('..')\n",
    "import data_processing.preprocessing as preprocessing\n",
    "from config import left_cut, right_cut\n",
    "from utils import beerlamb_multi\n",
    "import utils\n",
    "\n",
    "sns.set()"
   ]
  },
  {
   "cell_type": "code",
   "execution_count": 4,
   "metadata": {},
   "outputs": [],
   "source": [
    "path_old = \"dataset/miniCYRIL-Piglet-Data\"\n",
    "path = \"/Users/boeykaizhe/Documents/TUM/IDP2/miniCYRIL-Piglet-Data\"\n",
    "folder = os.listdir(path)\n",
    "folder = [i for i in folder if \"lwp\" in i or \"LWP\" in i]\n",
    "dic = {}\n",
    "for i in folder:    \n",
    "    files = os.listdir('/Users/boeykaizhe/Documents/TUM/IDP2/miniCYRIL-Piglet-Data/'+i)\n",
    "    files = [i for i in files if \".mat\" in i]\n",
    "    files = [i for i in files if not any(excluded in i for excluded in \n",
    "                    [\"Results\", \"DarkCount\", \"ref\", \"output\", \"markcope\", \"Abs\", \"lwp\"])]\n",
    "    if files == []: continue\n",
    "    dic[i] = files"
   ]
  },
  {
   "cell_type": "code",
   "execution_count": 6,
   "metadata": {
    "collapsed": false,
    "jupyter": {
     "outputs_hidden": false
    },
    "pycharm": {
     "name": "#%%\n"
    }
   },
   "outputs": [],
   "source": [
    "def optimisation(spectr1, spectr2, wavelengths):\n",
    "    m = 4  # number of parameters (from 2 to 6)\n",
    "    #np.random.seed(1)\n",
    "    molecules, x = preprocessing.read_molecules(left_cut, right_cut, wavelengths)\n",
    "    y_hbo2_f, y_hb_f, y_coxa, y_creda, _, _ = molecules\n",
    "    M = np.transpose(np.vstack((np.asarray(y_hbo2_f),\n",
    "                                np.asarray(y_hb_f),\n",
    "                                np.asarray(y_coxa),\n",
    "                                np.asarray(y_creda))))\n",
    "    \n",
    "    b = spectr2 / spectr1\n",
    "    b = np.log(1 / np.asarray(b))  # see the writting above (we took log of I_R and there was also minus that went to the degree of the logarithm)\n",
    "    X = cp.Variable((m, len(b)))\n",
    "    b = np.swapaxes(b, 0, 1)\n",
    "    \n",
    "    print(M.shape, X.shape, b.shape)\n",
    "     \n",
    "    objective = cp.Minimize(cp.sum_squares(M @ X - b))\n",
    "    constraints = [cp.abs(X[2]+X[3])<=0.01]\n",
    "    prob = cp.Problem(objective, constraints)\n",
    "    \n",
    "    start = time.time()\n",
    "    result = prob.solve()\n",
    "    print(\"Time:\", time.time() - start)\n",
    "\n",
    "    # for i in range(len(b[0])):        \n",
    "    #     if i % 20000 == 0:\n",
    "    #         fig, (ax) = plt.subplots(ncols=1, figsize=(12, 4))\n",
    "    #         fig.suptitle(\"Diff to timestep \" + str(i), fontsize=16, y=1.05)\n",
    "    #         Xi = -X[:,i]\n",
    "    #         bi = b[:,i]\n",
    "\n",
    "    #         err = np.asarray(np.log(beerlamb_multi(molecules, x, Xi.value, left_cut))) - bi\n",
    "    #         err = np.mean(np.abs(err))\n",
    "    #         ax.plot(x, np.log(beerlamb_multi(molecules, x, Xi.value, left_cut)), color='b', label='Predicted')\n",
    "    #         ax.plot(x, bi, color='r', label='Real')\n",
    "    #         ax.set_xlabel(str(np.around(Xi.value,decimals=4)), fontsize=12)\n",
    "    #         ax.set_title(\"base\", fontsize=12)\n",
    "    #         ax.set_xlim(left_cut, right_cut)\n",
    "    #         ax.annotate(\"Error: \" + str(np.round(err, 4)),\n",
    "    #                     xy=(0.6, 0.7),  # Coordinates for the annotation arrow point\n",
    "    #                     xycoords='axes fraction')\n",
    "    #         ax.legend()            \n",
    "    #         fig.show()\n",
    "\n",
    "    return -X.value, b"
   ]
  },
  {
   "cell_type": "code",
   "execution_count": 7,
   "metadata": {
    "collapsed": false,
    "jupyter": {
     "outputs_hidden": false
    },
    "pycharm": {
     "name": "#%%\n"
    }
   },
   "outputs": [],
   "source": [
    "def get_dataset(spectr, dark_full, white_full, wavelengths, minimum, maximum, pig, date):\n",
    "    ref_spectr = (spectr[:, minimum] - dark_full[:, 0]) / (white_full[:, 0] - dark_full[:, 0])\n",
    "    ref_spectr[ref_spectr <= 0] = 0.0001\n",
    "\n",
    "    spectra_list = []\n",
    "    coef_list = []\n",
    "\n",
    "    #if i not in [100,200,400,2000]: continue\n",
    "    comp_spectr = np.array([(spectr[:, i] - dark_full[:, 0]) / (white_full[:, 0] - dark_full[:, 0]) for i in range(minimum+1,maximum+1)])\n",
    "    comp_spectr[comp_spectr <= 0] = 0.0001\n",
    "\n",
    "    #comp_spectr = np.array(comp_spectr.tolist() * 11)\n",
    "\n",
    "    coef_diff, spect_diff = optimisation(ref_spectr, comp_spectr, wavelengths)\n",
    "\n",
    "    spectra_list.append(spect_diff)\n",
    "    coef_list.append(coef_diff)\n",
    "    utils.save_optimization_data(ref_spectr, spectra_list, coef_list, str(pig)+'_'+str(date))"
   ]
  },
  {
   "cell_type": "code",
   "execution_count": 8,
   "metadata": {},
   "outputs": [
    {
     "name": "stdout",
     "output_type": "stream",
     "text": [
      "LWP495 LWP495_Ws_03Apr2017_12  46.mat\n"
     ]
    },
    {
     "ename": "FileNotFoundError",
     "evalue": "[Errno 2] No such file or directory: 'dataset/miniCYRIL-Piglet-Data/LWP495/LWP495_Ws_03Apr2017_12  46.mat'",
     "output_type": "error",
     "traceback": [
      "\u001b[0;31m---------------------------------------------------------------------------\u001b[0m",
      "\u001b[0;31mFileNotFoundError\u001b[0m                         Traceback (most recent call last)",
      "File \u001b[0;32m~/opt/anaconda3/envs/i2dl/lib/python3.10/site-packages/scipy/io/matlab/_mio.py:39\u001b[0m, in \u001b[0;36m_open_file\u001b[0;34m(file_like, appendmat, mode)\u001b[0m\n\u001b[1;32m     38\u001b[0m \u001b[38;5;28;01mtry\u001b[39;00m:\n\u001b[0;32m---> 39\u001b[0m     \u001b[38;5;28;01mreturn\u001b[39;00m \u001b[38;5;28;43mopen\u001b[39;49m\u001b[43m(\u001b[49m\u001b[43mfile_like\u001b[49m\u001b[43m,\u001b[49m\u001b[43m \u001b[49m\u001b[43mmode\u001b[49m\u001b[43m)\u001b[49m, \u001b[38;5;28;01mTrue\u001b[39;00m\n\u001b[1;32m     40\u001b[0m \u001b[38;5;28;01mexcept\u001b[39;00m \u001b[38;5;167;01mOSError\u001b[39;00m \u001b[38;5;28;01mas\u001b[39;00m e:\n\u001b[1;32m     41\u001b[0m     \u001b[38;5;66;03m# Probably \"not found\"\u001b[39;00m\n",
      "\u001b[0;31mFileNotFoundError\u001b[0m: [Errno 2] No such file or directory: 'dataset/miniCYRIL-Piglet-Data/LWP495/LWP495_Ws_03Apr2017_12  46.mat'",
      "\nDuring handling of the above exception, another exception occurred:\n",
      "\u001b[0;31mFileNotFoundError\u001b[0m                         Traceback (most recent call last)",
      "Input \u001b[0;32mIn [8]\u001b[0m, in \u001b[0;36m<cell line: 1>\u001b[0;34m()\u001b[0m\n\u001b[1;32m      2\u001b[0m \u001b[38;5;28;01mfor\u001b[39;00m index, date \u001b[38;5;129;01min\u001b[39;00m \u001b[38;5;28menumerate\u001b[39m(dic[pig]):  \n\u001b[1;32m      3\u001b[0m     \u001b[38;5;28mprint\u001b[39m(pig, date)\n\u001b[0;32m----> 4\u001b[0m     img \u001b[38;5;241m=\u001b[39m \u001b[43mscipy\u001b[49m\u001b[38;5;241;43m.\u001b[39;49m\u001b[43mio\u001b[49m\u001b[38;5;241;43m.\u001b[39;49m\u001b[43mloadmat\u001b[49m\u001b[43m(\u001b[49m\u001b[38;5;124;43m'\u001b[39;49m\u001b[38;5;124;43mdataset/miniCYRIL-Piglet-Data/\u001b[39;49m\u001b[38;5;124;43m'\u001b[39;49m\u001b[43m \u001b[49m\u001b[38;5;241;43m+\u001b[39;49m\u001b[43m \u001b[49m\u001b[43mpig\u001b[49m\u001b[43m \u001b[49m\u001b[38;5;241;43m+\u001b[39;49m\u001b[43m \u001b[49m\u001b[38;5;124;43m'\u001b[39;49m\u001b[38;5;124;43m/\u001b[39;49m\u001b[38;5;124;43m'\u001b[39;49m\u001b[43m \u001b[49m\u001b[38;5;241;43m+\u001b[39;49m\u001b[43m \u001b[49m\u001b[43mdate\u001b[49m\u001b[43m)\u001b[49m\n\u001b[1;32m      6\u001b[0m     wavelengths \u001b[38;5;241m=\u001b[39m img[\u001b[38;5;124m'\u001b[39m\u001b[38;5;124mwavelengths\u001b[39m\u001b[38;5;124m'\u001b[39m]\u001b[38;5;241m.\u001b[39mastype(\u001b[38;5;28mfloat\u001b[39m)\n\u001b[1;32m      7\u001b[0m     white_full \u001b[38;5;241m=\u001b[39m img[\u001b[38;5;124m'\u001b[39m\u001b[38;5;124mrefIntensity\u001b[39m\u001b[38;5;124m'\u001b[39m]\u001b[38;5;241m.\u001b[39mastype(\u001b[38;5;28mfloat\u001b[39m)\n",
      "File \u001b[0;32m~/opt/anaconda3/envs/i2dl/lib/python3.10/site-packages/scipy/io/matlab/_mio.py:225\u001b[0m, in \u001b[0;36mloadmat\u001b[0;34m(file_name, mdict, appendmat, **kwargs)\u001b[0m\n\u001b[1;32m     88\u001b[0m \u001b[38;5;124;03m\"\"\"\u001b[39;00m\n\u001b[1;32m     89\u001b[0m \u001b[38;5;124;03mLoad MATLAB file.\u001b[39;00m\n\u001b[1;32m     90\u001b[0m \n\u001b[0;32m   (...)\u001b[0m\n\u001b[1;32m    222\u001b[0m \u001b[38;5;124;03m    3.14159265+3.14159265j])\u001b[39;00m\n\u001b[1;32m    223\u001b[0m \u001b[38;5;124;03m\"\"\"\u001b[39;00m\n\u001b[1;32m    224\u001b[0m variable_names \u001b[38;5;241m=\u001b[39m kwargs\u001b[38;5;241m.\u001b[39mpop(\u001b[38;5;124m'\u001b[39m\u001b[38;5;124mvariable_names\u001b[39m\u001b[38;5;124m'\u001b[39m, \u001b[38;5;28;01mNone\u001b[39;00m)\n\u001b[0;32m--> 225\u001b[0m \u001b[38;5;28;01mwith\u001b[39;00m _open_file_context(file_name, appendmat) \u001b[38;5;28;01mas\u001b[39;00m f:\n\u001b[1;32m    226\u001b[0m     MR, _ \u001b[38;5;241m=\u001b[39m mat_reader_factory(f, \u001b[38;5;241m*\u001b[39m\u001b[38;5;241m*\u001b[39mkwargs)\n\u001b[1;32m    227\u001b[0m     matfile_dict \u001b[38;5;241m=\u001b[39m MR\u001b[38;5;241m.\u001b[39mget_variables(variable_names)\n",
      "File \u001b[0;32m~/opt/anaconda3/envs/i2dl/lib/python3.10/contextlib.py:135\u001b[0m, in \u001b[0;36m_GeneratorContextManager.__enter__\u001b[0;34m(self)\u001b[0m\n\u001b[1;32m    133\u001b[0m \u001b[38;5;28;01mdel\u001b[39;00m \u001b[38;5;28mself\u001b[39m\u001b[38;5;241m.\u001b[39margs, \u001b[38;5;28mself\u001b[39m\u001b[38;5;241m.\u001b[39mkwds, \u001b[38;5;28mself\u001b[39m\u001b[38;5;241m.\u001b[39mfunc\n\u001b[1;32m    134\u001b[0m \u001b[38;5;28;01mtry\u001b[39;00m:\n\u001b[0;32m--> 135\u001b[0m     \u001b[38;5;28;01mreturn\u001b[39;00m \u001b[38;5;28;43mnext\u001b[39;49m\u001b[43m(\u001b[49m\u001b[38;5;28;43mself\u001b[39;49m\u001b[38;5;241;43m.\u001b[39;49m\u001b[43mgen\u001b[49m\u001b[43m)\u001b[49m\n\u001b[1;32m    136\u001b[0m \u001b[38;5;28;01mexcept\u001b[39;00m \u001b[38;5;167;01mStopIteration\u001b[39;00m:\n\u001b[1;32m    137\u001b[0m     \u001b[38;5;28;01mraise\u001b[39;00m \u001b[38;5;167;01mRuntimeError\u001b[39;00m(\u001b[38;5;124m\"\u001b[39m\u001b[38;5;124mgenerator didn\u001b[39m\u001b[38;5;124m'\u001b[39m\u001b[38;5;124mt yield\u001b[39m\u001b[38;5;124m\"\u001b[39m) \u001b[38;5;28;01mfrom\u001b[39;00m \u001b[38;5;28mNone\u001b[39m\n",
      "File \u001b[0;32m~/opt/anaconda3/envs/i2dl/lib/python3.10/site-packages/scipy/io/matlab/_mio.py:17\u001b[0m, in \u001b[0;36m_open_file_context\u001b[0;34m(file_like, appendmat, mode)\u001b[0m\n\u001b[1;32m     15\u001b[0m \u001b[38;5;129m@contextmanager\u001b[39m\n\u001b[1;32m     16\u001b[0m \u001b[38;5;28;01mdef\u001b[39;00m \u001b[38;5;21m_open_file_context\u001b[39m(file_like, appendmat, mode\u001b[38;5;241m=\u001b[39m\u001b[38;5;124m'\u001b[39m\u001b[38;5;124mrb\u001b[39m\u001b[38;5;124m'\u001b[39m):\n\u001b[0;32m---> 17\u001b[0m     f, opened \u001b[38;5;241m=\u001b[39m \u001b[43m_open_file\u001b[49m\u001b[43m(\u001b[49m\u001b[43mfile_like\u001b[49m\u001b[43m,\u001b[49m\u001b[43m \u001b[49m\u001b[43mappendmat\u001b[49m\u001b[43m,\u001b[49m\u001b[43m \u001b[49m\u001b[43mmode\u001b[49m\u001b[43m)\u001b[49m\n\u001b[1;32m     18\u001b[0m     \u001b[38;5;28;01mtry\u001b[39;00m:\n\u001b[1;32m     19\u001b[0m         \u001b[38;5;28;01myield\u001b[39;00m f\n",
      "File \u001b[0;32m~/opt/anaconda3/envs/i2dl/lib/python3.10/site-packages/scipy/io/matlab/_mio.py:45\u001b[0m, in \u001b[0;36m_open_file\u001b[0;34m(file_like, appendmat, mode)\u001b[0m\n\u001b[1;32m     43\u001b[0m     \u001b[38;5;28;01mif\u001b[39;00m appendmat \u001b[38;5;129;01mand\u001b[39;00m \u001b[38;5;129;01mnot\u001b[39;00m file_like\u001b[38;5;241m.\u001b[39mendswith(\u001b[38;5;124m'\u001b[39m\u001b[38;5;124m.mat\u001b[39m\u001b[38;5;124m'\u001b[39m):\n\u001b[1;32m     44\u001b[0m         file_like \u001b[38;5;241m+\u001b[39m\u001b[38;5;241m=\u001b[39m \u001b[38;5;124m'\u001b[39m\u001b[38;5;124m.mat\u001b[39m\u001b[38;5;124m'\u001b[39m\n\u001b[0;32m---> 45\u001b[0m     \u001b[38;5;28;01mreturn\u001b[39;00m \u001b[38;5;28;43mopen\u001b[39;49m\u001b[43m(\u001b[49m\u001b[43mfile_like\u001b[49m\u001b[43m,\u001b[49m\u001b[43m \u001b[49m\u001b[43mmode\u001b[49m\u001b[43m)\u001b[49m, \u001b[38;5;28;01mTrue\u001b[39;00m\n\u001b[1;32m     46\u001b[0m \u001b[38;5;28;01melse\u001b[39;00m:\n\u001b[1;32m     47\u001b[0m     \u001b[38;5;28;01mraise\u001b[39;00m \u001b[38;5;167;01mOSError\u001b[39;00m(\n\u001b[1;32m     48\u001b[0m         \u001b[38;5;124m'\u001b[39m\u001b[38;5;124mReader needs file name or open file-like object\u001b[39m\u001b[38;5;124m'\u001b[39m\n\u001b[1;32m     49\u001b[0m     ) \u001b[38;5;28;01mfrom\u001b[39;00m \u001b[38;5;21;01me\u001b[39;00m\n",
      "\u001b[0;31mFileNotFoundError\u001b[0m: [Errno 2] No such file or directory: 'dataset/miniCYRIL-Piglet-Data/LWP495/LWP495_Ws_03Apr2017_12  46.mat'"
     ]
    }
   ],
   "source": [
    "for pig in dic.keys():\n",
    "    for index, date in enumerate(dic[pig]):  \n",
    "        print(pig, date)\n",
    "        img = scipy.io.loadmat('/Users/boeykaizhe/Documents/TUM/IDP2/miniCYRIL-Piglet-Data/' + pig + '/' + date)\n",
    "\n",
    "        wavelengths = img['wavelengths'].astype(float)\n",
    "        white_full = img['refIntensity'].astype(float)\n",
    "        dark_full = img['darkcount'].astype(float)\n",
    "        spectr = img['spectralDataAll'].astype(float)\n",
    "\n",
    "        idx = (wavelengths >= left_cut) & (wavelengths <= right_cut)\n",
    "        wavelengths = wavelengths[idx]\n",
    "        spectr = spectr[idx.squeeze()]\n",
    "        white_full = white_full[idx.squeeze()]\n",
    "\n",
    "        print(white_full.shape, dark_full.shape, wavelengths.shape, spectr.shape)  \n",
    "        minimum, maximum = None, None\n",
    "              \n",
    "        # fig, (ax, ax1, ax2) = plt.subplots(ncols=3, figsize=(12, 4))\n",
    "        for i in range(spectr.shape[1]):\n",
    "            spectr_1 = (spectr[:, i] - dark_full[:, 0]) / (white_full[:, 0] - dark_full[:, 0])\n",
    "            dif = max(spectr_1) - min(spectr_1)\n",
    "            if dif >= 0.1:\n",
    "        #         ax.plot(wavelengths, spectr_1)\n",
    "        #         ax.set_xlabel(\"Wavelength\", fontsize=15)\n",
    "        #         ax.set_title(\"Base Spectrogram\", fontsize=15)\n",
    "                minimum = i\n",
    "                break\n",
    "\n",
    "        for i in reversed(range(spectr.shape[1])):\n",
    "            spectr_2 = (spectr[:, i] - dark_full[:, 0]) / (white_full[:, 0] - dark_full[:, 0])\n",
    "            dif = max(spectr_2) - min(spectr_2)\n",
    "            if dif >= 0.1:\n",
    "        #         ax1.plot(wavelengths, spectr_2)\n",
    "        #         ax1.set_xlabel(\"Wavelength\", fontsize=15)\n",
    "        #         ax1.set_title(\"Hypoxia Spectrogram\", fontsize=15)\n",
    "                maximum = i\n",
    "                break\n",
    "\n",
    "        # spectr_1[spectr_1 <= 0] = 0.0001\n",
    "        # spectr_2[spectr_2 <= 0] = 0.0001\n",
    "        # ax2.plot(wavelengths, spectr_2 / spectr_1)\n",
    "        # ax2.set_xlabel(\"Wavelength\", fontsize=15)\n",
    "        # ax2.set_title(\"Diff Spectrogram\", fontsize=15)\n",
    "        \n",
    "        print(\"Min and Max:\", minimum, maximum)\n",
    "        if minimum is not None and maximum-minimum >= 100: get_dataset(spectr, dark_full, white_full, wavelengths, minimum, maximum, pig, index)\n",
    "        else: print(\"skipped this sample\")\n",
    "        print()"
   ]
  },
  {
   "cell_type": "code",
   "execution_count": null,
   "metadata": {},
   "outputs": [],
   "source": []
  }
 ],
 "metadata": {
  "kernelspec": {
   "display_name": "Python 3 (ipykernel)",
   "language": "python",
   "name": "python3"
  },
  "language_info": {
   "codemirror_mode": {
    "name": "ipython",
    "version": 3
   },
   "file_extension": ".py",
   "mimetype": "text/x-python",
   "name": "python",
   "nbconvert_exporter": "python",
   "pygments_lexer": "ipython3",
   "version": "3.10.6"
  }
 },
 "nbformat": 4,
 "nbformat_minor": 4
}
