{
 "cells": [
  {
   "cell_type": "code",
   "execution_count": 1,
   "metadata": {
    "collapsed": false,
    "pycharm": {
     "name": "#%%\n"
    }
   },
   "outputs": [],
   "source": [
    "import os\n",
    "import time\n",
    "\n",
    "import matplotlib.pyplot as plt\n",
    "import numpy as np\n",
    "import scipy\n",
    "import torch\n",
    "from torch.utils.data import DataLoader, ConcatDataset\n",
    "\n",
    "os.chdir('..')\n",
    "from data_processing.datasets import PigletDataset\n",
    "from neuralnet.model import SpectraMLP\n",
    "from utils import beerlamb_multi, beerlamb_multi_batch\n",
    "import data_processing.preprocessing as preprocessing\n",
    "from config import left_cut, right_cut\n",
    "\n",
    "device = torch.device(\"cuda:0\" if torch.cuda.is_available() else \"cpu\")"
   ]
  },
  {
   "cell_type": "code",
   "execution_count": 2,
   "metadata": {
    "collapsed": false,
    "pycharm": {
     "name": "#%%\n"
    }
   },
   "outputs": [
    {
     "name": "stdout",
     "output_type": "stream",
     "text": [
      "115624\n"
     ]
    }
   ],
   "source": [
    "path_to_data = \"dataset/piglet_diffs\"\n",
    "spectra_dataset = PigletDataset(path_to_data, range=(511, 512))\n",
    "n = 4\n",
    "spectra_datasets = ConcatDataset(n * [spectra_dataset])\n",
    "dl = DataLoader(spectra_datasets, batch_size=n*len(spectra_dataset), shuffle=False)\n",
    "inputs, targets = next(iter(dl))\n",
    "print(len(spectra_datasets))"
   ]
  },
  {
   "cell_type": "code",
   "execution_count": 3,
   "metadata": {
    "collapsed": false,
    "pycharm": {
     "name": "#%%\n"
    }
   },
   "outputs": [],
   "source": [
    "img = scipy.io.loadmat('dataset/miniCYRIL-Piglet-Data/LWP511/LWP511_Ws_26Jul_2017_16   8.mat')\n",
    "wavelengths = img['wavelengths'].astype(float)\n",
    "idx = (wavelengths >= left_cut) & (wavelengths <= right_cut)\n",
    "wavelengths = wavelengths[idx]\n",
    "\n",
    "molecules, x = preprocessing.read_molecules(left_cut, right_cut, wavelengths)\n",
    "molecules = molecules[:4]"
   ]
  },
  {
   "cell_type": "code",
   "execution_count": 4,
   "metadata": {
    "collapsed": false,
    "pycharm": {
     "name": "#%%\n"
    }
   },
   "outputs": [],
   "source": [
    "def test(targets):\n",
    "    start = time.time()\n",
    "    preds = model(inputs.to(device).float()).cpu()\n",
    "    duration = time.time() - start\n",
    "    \n",
    "    preds = torch.squeeze(preds)\n",
    "    preds = torch.swapaxes(preds, 0, 1).detach()\n",
    "        \n",
    "    err = 0\n",
    "    spec1 = np.asarray(np.log(beerlamb_multi_batch(molecules, x, preds, left_cut)))\n",
    "    spec2 = np.asarray(np.log(beerlamb_multi_batch(molecules, x, torch.swapaxes(targets, 0, 1), left_cut)))\n",
    "    err += np.mean(np.abs(spec1 - spec2))\n",
    "    return duration, err"
   ]
  },
  {
   "cell_type": "code",
   "execution_count": 5,
   "metadata": {
    "collapsed": false,
    "pycharm": {
     "name": "#%%\n"
    }
   },
   "outputs": [
    {
     "name": "stderr",
     "output_type": "stream",
     "text": [
      "/home/hsiehf/enviro/lib/python3.9/site-packages/torch/nn/modules/lazy.py:180: UserWarning: Lazy modules are a new feature under heavy development so changes to the API or functionality can happen at any moment.\n",
      "  warnings.warn('Lazy modules are a new feature under heavy development '\n"
     ]
    }
   ],
   "source": [
    "import pandas as pd\n",
    "\n",
    "results_list = []\n",
    "folders = os.listdir(\"results\")\n",
    "\n",
    "for folder in folders:\n",
    "    layer, size = folder.split(\"_\")\n",
    "\n",
    "    model = SpectraMLP(4, n_layers=int(layer), layer_width=int(size))\n",
    "    checkpoints = torch.load('results/{}/best_model.pth'.format(folder))\n",
    "    model.load_state_dict(checkpoints)\n",
    "    model.to(device)\n",
    "    model.eval()\n",
    "\n",
    "    duration, error = test(targets)\n",
    "\n",
    "    results_dict = {\n",
    "        'Folder': folder,\n",
    "        'N Params': sum(p.numel() for p in model.parameters()),\n",
    "        'Duration': round(duration, 4),\n",
    "        'Error': round(error, 4)}\n",
    "    results_list.append(results_dict)\n",
    "\n",
    "df = pd.DataFrame(results_list)\n",
    "#df.to_csv('results/results_summary.csv', index=False)"
   ]
  },
  {
   "cell_type": "code",
   "execution_count": 6,
   "metadata": {
    "collapsed": false,
    "pycharm": {
     "name": "#%%\n"
    }
   },
   "outputs": [
    {
     "data": {
      "text/html": [
       "<div>\n",
       "<style scoped>\n",
       "    .dataframe tbody tr th:only-of-type {\n",
       "        vertical-align: middle;\n",
       "    }\n",
       "\n",
       "    .dataframe tbody tr th {\n",
       "        vertical-align: top;\n",
       "    }\n",
       "\n",
       "    .dataframe thead th {\n",
       "        text-align: right;\n",
       "    }\n",
       "</style>\n",
       "<table border=\"1\" class=\"dataframe\">\n",
       "  <thead>\n",
       "    <tr style=\"text-align: right;\">\n",
       "      <th></th>\n",
       "      <th>Folder</th>\n",
       "      <th>N Params</th>\n",
       "      <th>Duration</th>\n",
       "      <th>Error</th>\n",
       "    </tr>\n",
       "  </thead>\n",
       "  <tbody>\n",
       "    <tr>\n",
       "      <th>15</th>\n",
       "      <td>2_512</td>\n",
       "      <td>374788</td>\n",
       "      <td>0.0942</td>\n",
       "      <td>0.0126</td>\n",
       "    </tr>\n",
       "    <tr>\n",
       "      <th>10</th>\n",
       "      <td>3_128</td>\n",
       "      <td>61060</td>\n",
       "      <td>0.0900</td>\n",
       "      <td>0.0127</td>\n",
       "    </tr>\n",
       "    <tr>\n",
       "      <th>13</th>\n",
       "      <td>2_256</td>\n",
       "      <td>121860</td>\n",
       "      <td>0.0860</td>\n",
       "      <td>0.0127</td>\n",
       "    </tr>\n",
       "    <tr>\n",
       "      <th>0</th>\n",
       "      <td>2_128</td>\n",
       "      <td>44548</td>\n",
       "      <td>0.4453</td>\n",
       "      <td>0.0129</td>\n",
       "    </tr>\n",
       "    <tr>\n",
       "      <th>8</th>\n",
       "      <td>4_512</td>\n",
       "      <td>900100</td>\n",
       "      <td>0.1145</td>\n",
       "      <td>0.0130</td>\n",
       "    </tr>\n",
       "    <tr>\n",
       "      <th>5</th>\n",
       "      <td>1_128</td>\n",
       "      <td>28036</td>\n",
       "      <td>0.0268</td>\n",
       "      <td>0.0131</td>\n",
       "    </tr>\n",
       "    <tr>\n",
       "      <th>11</th>\n",
       "      <td>3_512</td>\n",
       "      <td>637444</td>\n",
       "      <td>0.1040</td>\n",
       "      <td>0.0131</td>\n",
       "    </tr>\n",
       "    <tr>\n",
       "      <th>14</th>\n",
       "      <td>4_128</td>\n",
       "      <td>77572</td>\n",
       "      <td>0.0291</td>\n",
       "      <td>0.0131</td>\n",
       "    </tr>\n",
       "    <tr>\n",
       "      <th>6</th>\n",
       "      <td>4_256</td>\n",
       "      <td>253444</td>\n",
       "      <td>0.0901</td>\n",
       "      <td>0.0133</td>\n",
       "    </tr>\n",
       "    <tr>\n",
       "      <th>7</th>\n",
       "      <td>1_256</td>\n",
       "      <td>56068</td>\n",
       "      <td>0.0276</td>\n",
       "      <td>0.0137</td>\n",
       "    </tr>\n",
       "    <tr>\n",
       "      <th>9</th>\n",
       "      <td>1_1024</td>\n",
       "      <td>224260</td>\n",
       "      <td>0.0373</td>\n",
       "      <td>0.0137</td>\n",
       "    </tr>\n",
       "    <tr>\n",
       "      <th>3</th>\n",
       "      <td>3_256</td>\n",
       "      <td>187652</td>\n",
       "      <td>0.0932</td>\n",
       "      <td>0.0155</td>\n",
       "    </tr>\n",
       "    <tr>\n",
       "      <th>4</th>\n",
       "      <td>1_512</td>\n",
       "      <td>112132</td>\n",
       "      <td>0.0843</td>\n",
       "      <td>0.0175</td>\n",
       "    </tr>\n",
       "    <tr>\n",
       "      <th>12</th>\n",
       "      <td>4_1024</td>\n",
       "      <td>3373060</td>\n",
       "      <td>0.1503</td>\n",
       "      <td>0.0180</td>\n",
       "    </tr>\n",
       "    <tr>\n",
       "      <th>1</th>\n",
       "      <td>2_1024</td>\n",
       "      <td>1273860</td>\n",
       "      <td>0.1443</td>\n",
       "      <td>0.0223</td>\n",
       "    </tr>\n",
       "    <tr>\n",
       "      <th>2</th>\n",
       "      <td>3_1024</td>\n",
       "      <td>2323460</td>\n",
       "      <td>0.1771</td>\n",
       "      <td>0.0276</td>\n",
       "    </tr>\n",
       "  </tbody>\n",
       "</table>\n",
       "</div>"
      ],
      "text/plain": [
       "    Folder  N Params  Duration   Error\n",
       "15   2_512    374788    0.0942  0.0126\n",
       "10   3_128     61060    0.0900  0.0127\n",
       "13   2_256    121860    0.0860  0.0127\n",
       "0    2_128     44548    0.4453  0.0129\n",
       "8    4_512    900100    0.1145  0.0130\n",
       "5    1_128     28036    0.0268  0.0131\n",
       "11   3_512    637444    0.1040  0.0131\n",
       "14   4_128     77572    0.0291  0.0131\n",
       "6    4_256    253444    0.0901  0.0133\n",
       "7    1_256     56068    0.0276  0.0137\n",
       "9   1_1024    224260    0.0373  0.0137\n",
       "3    3_256    187652    0.0932  0.0155\n",
       "4    1_512    112132    0.0843  0.0175\n",
       "12  4_1024   3373060    0.1503  0.0180\n",
       "1   2_1024   1273860    0.1443  0.0223\n",
       "2   3_1024   2323460    0.1771  0.0276"
      ]
     },
     "execution_count": 6,
     "metadata": {},
     "output_type": "execute_result"
    }
   ],
   "source": [
    "df.sort_values(by='Error')"
   ]
  }
 ],
 "metadata": {
  "kernelspec": {
   "display_name": "Python 3",
   "language": "python",
   "name": "python3"
  },
  "language_info": {
   "codemirror_mode": {
    "name": "ipython",
    "version": 3
   },
   "file_extension": ".py",
   "mimetype": "text/x-python",
   "name": "python",
   "nbconvert_exporter": "python",
   "pygments_lexer": "ipython3",
   "version": "3.9.15"
  }
 },
 "nbformat": 4,
 "nbformat_minor": 0
}
