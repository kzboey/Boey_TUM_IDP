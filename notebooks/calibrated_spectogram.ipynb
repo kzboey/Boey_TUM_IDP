{
 "cells": [
  {
   "cell_type": "code",
   "execution_count": 11,
   "id": "16a7091a-e3a6-498b-9787-9a752b69b677",
   "metadata": {},
   "outputs": [],
   "source": [
    "import scipy.io\n",
    "import matplotlib.pyplot as plt\n",
    "import numpy as np\n",
    "import matplotlib.gridspec as gridspec\n",
    "\n",
    "\n",
    "def remove_ticks(ax):\n",
    "    ax.set_xticks([]) \n",
    "    ax.set_yticks([]) \n",
    "\n",
    "#path = \"/home/ivan/aimlab/ilias/\"\n",
    "path = \"/Users/boeykaizhe/Documents/TUM/IDP2/miniCYRIL-Piglet-Data/LWP480/\"\n",
    "img = scipy.io.loadmat(path + 'LWP480_Ws_12Dec2016.mat')\n",
    "#img"
   ]
  },
  {
   "cell_type": "code",
   "execution_count": 8,
   "id": "9afd906f-5c7f-4fa6-bc1e-e68e1de07d0c",
   "metadata": {},
   "outputs": [
    {
     "ename": "KeyError",
     "evalue": "'wavelengths'",
     "output_type": "error",
     "traceback": [
      "\u001b[0;31m---------------------------------------------------------------------------\u001b[0m",
      "\u001b[0;31mKeyError\u001b[0m                                  Traceback (most recent call last)",
      "Input \u001b[0;32mIn [10]\u001b[0m, in \u001b[0;36m<cell line: 7>\u001b[0;34m()\u001b[0m\n\u001b[1;32m      4\u001b[0m intensity1_c \u001b[38;5;241m=\u001b[39m []\n\u001b[1;32m      5\u001b[0m intensity2_c \u001b[38;5;241m=\u001b[39m []\n\u001b[0;32m----> 7\u001b[0m wavelengths \u001b[38;5;241m=\u001b[39m \u001b[43mimg\u001b[49m\u001b[43m[\u001b[49m\u001b[38;5;124;43m'\u001b[39;49m\u001b[38;5;124;43mwavelengths\u001b[39;49m\u001b[38;5;124;43m'\u001b[39;49m\u001b[43m]\u001b[49m\u001b[38;5;241m.\u001b[39mastype(\u001b[38;5;28mfloat\u001b[39m)\n\u001b[1;32m      8\u001b[0m white_full \u001b[38;5;241m=\u001b[39m img[\u001b[38;5;124m'\u001b[39m\u001b[38;5;124mrefSpectrum\u001b[39m\u001b[38;5;124m'\u001b[39m]\u001b[38;5;241m.\u001b[39mastype(\u001b[38;5;28mfloat\u001b[39m)\n\u001b[1;32m      9\u001b[0m dark_full  \u001b[38;5;241m=\u001b[39m img[\u001b[38;5;124m'\u001b[39m\u001b[38;5;124mDarkCount\u001b[39m\u001b[38;5;124m'\u001b[39m]\u001b[38;5;241m.\u001b[39mastype(\u001b[38;5;28mfloat\u001b[39m)\n",
      "\u001b[0;31mKeyError\u001b[0m: 'wavelengths'"
     ]
    }
   ],
   "source": [
    "###################################################################################\n",
    "### Visualising spectrograms with calibration\n",
    "\n",
    "intensity1_c = []\n",
    "intensity2_c = []\n",
    "\n",
    "wavelengths = img['wavelengths'].astype(float)\n",
    "white_full = img['refSpectrum'].astype(float)\n",
    "dark_full  = img['DarkCount'].astype(float)\n",
    "spectr = img['spectralDatameasured'].astype(float)\n",
    "\n",
    "\n",
    "# We wanna calibrate our HSI images w.r.t. white reference. Why? Because we saw by looking at the raw data that different \n",
    "# wavelengths have different reflection from the white materila (i.e. reflecting 99% of light). So\n",
    "# we calibrate our HSI images \n",
    "print(white_full.shape, dark_full.shape, wavelengths.shape, spectr.shape)\n",
    "\n",
    "inference_spectra = []\n",
    "\n",
    "for i in range(0,spectr.shape[1],10):\n",
    "    \n",
    "\n",
    "    \n",
    "    fig, (ax, ax1) = plt.subplots(ncols=2,figsize=(14,4))\n",
    "    #gs = gridspec.GridSpec(1, 2, width_ratios=[1, 2])\n",
    "\n",
    "\n",
    "    spectr_1 = (spectr[:,0] - dark_full[:,0])/(white_full[:,0] - dark_full[:,0])\n",
    "    #ax = plt.subplot(gs[0])\n",
    "    ax.plot(wavelengths, spectr_1, label=\"Before hypoxia\")\n",
    "    ax.set_xlabel(\"Wavelength, nm\", fontsize=12)\n",
    "    ax.set_title(\"Before hypoxia\", fontsize=12)\n",
    "    ax.set_xlim(550,1000)\n",
    "    ax.set_ylim(-0.01,0.3)\n",
    "    ax.tick_params(axis='both', which='major',labelsize=12)\n",
    "\n",
    "\n",
    "\n",
    "    #ax.set_xlim(450,900)\n",
    "    spectr_2 = (spectr[:,i] - dark_full[:,0])/(white_full[:,0] - dark_full[:,0])\n",
    "    inference_spectra.append(spectr_2)\n",
    "    ax1.plot(wavelengths, spectr_2, label=\"After hypoxia\")\n",
    "    ax1.set_xlabel(\"Wavelength, nm\", fontsize=12)\n",
    "    ax1.set_title(\"Spectrum after hypoxia\", fontsize=12)\n",
    "    ax1.set_xlim(650,1000)\n",
    "    ax1.set_ylim(-0.01,0.3)\n",
    "    ax1.set_yticks([])\n",
    "    #ax1.set_xticks()\n",
    "    ax1.tick_params(axis='both', which='major',labelsize=12)\n",
    "    #ax.legend() #loc='upper center')\n",
    "    \n",
    "#     ax2 = plt.subplot(gs[1])\n",
    "#     ax2.plot(Number_of_predictions, [z[0] for z in Pred_concentration], label=\"$\\ \\delta c_{HbO_2}$\")\n",
    "#     ax2.plot(Number_of_predictions, [z[1] for z in Pred_concentration], label=\"$\\ \\delta c_{HHb}$\")\n",
    "#     ax2.plot(Number_of_predictions, [z[2] for z in Pred_concentration], label=\"$\\ \\delta c_{oxCCO}$\")\n",
    "#     ax2.plot(Number_of_predictions, [z[3] for z in Pred_concentration], label=\"$\\ \\delta c_{redCCO}$\")\n",
    "#     # Change the size of x-axis and y-axis ticks\n",
    "#     ax2.tick_params(axis='both', which='major',labelsize=12)  # Adjust the value as needed\n",
    "#  "
   ]
  },
  {
   "cell_type": "code",
   "execution_count": null,
   "id": "40c184c4-7ae2-43fe-a2f4-a1b1db1cdb10",
   "metadata": {},
   "outputs": [],
   "source": []
  }
 ],
 "metadata": {
  "kernelspec": {
   "display_name": "Python 3 (ipykernel)",
   "language": "python",
   "name": "python3"
  },
  "language_info": {
   "codemirror_mode": {
    "name": "ipython",
    "version": 3
   },
   "file_extension": ".py",
   "mimetype": "text/x-python",
   "name": "python",
   "nbconvert_exporter": "python",
   "pygments_lexer": "ipython3",
   "version": "3.10.6"
  }
 },
 "nbformat": 4,
 "nbformat_minor": 5
}
